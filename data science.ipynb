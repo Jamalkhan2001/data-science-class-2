{
 "cells": [
  {
   "cell_type": "code",
   "execution_count": 1,
   "id": "0686a867",
   "metadata": {},
   "outputs": [
    {
     "name": "stdout",
     "output_type": "stream",
     "text": [
      "Twinkle, twinkle, little star, \n",
      "         How I wonder what you are! \n",
      "                 Up above the world so high, \n",
      "                 Like a diamond in the sky.\n",
      "Twinkle, twinkle, little star, \n",
      "         How I wonder what you are \n"
     ]
    }
   ],
   "source": [
    "print(\"Twinkle, twinkle, little star, \\n         How I wonder what you are! \");\n",
    "print(\"                 Up above the world so high, \\n                 Like a diamond in the sky.\");\n",
    "print(\"Twinkle, twinkle, little star, \\n         How I wonder what you are \");"
   ]
  },
  {
   "cell_type": "code",
   "execution_count": 4,
   "id": "0104c1d0",
   "metadata": {},
   "outputs": [
    {
     "name": "stdout",
     "output_type": "stream",
     "text": [
      "12:24 PM \n",
      "29/10/2021\n"
     ]
    }
   ],
   "source": [
    "\n",
    "\n",
    "print(\"12:24 PM \\n29/10/2021\");"
   ]
  },
  {
   "cell_type": "code",
   "execution_count": 5,
   "id": "183076c2",
   "metadata": {},
   "outputs": [
    {
     "name": "stdout",
     "output_type": "stream",
     "text": [
      "khan jamal\n"
     ]
    }
   ],
   "source": [
    "print(\"khan jamal\");"
   ]
  },
  {
   "cell_type": "code",
   "execution_count": 6,
   "id": "6609aca9",
   "metadata": {},
   "outputs": [
    {
     "name": "stdout",
     "output_type": "stream",
     "text": [
      "10\n"
     ]
    }
   ],
   "source": [
    "x = 5 ;\n",
    "y = 5 ;\n",
    "z = (x + y)\n",
    "print(z)"
   ]
  },
  {
   "cell_type": "code",
   "execution_count": 7,
   "id": "2c7cb3fa",
   "metadata": {},
   "outputs": [
    {
     "name": "stdout",
     "output_type": "stream",
     "text": [
      "version 13.7\n"
     ]
    }
   ],
   "source": [
    "print(\"version 13.7\")"
   ]
  },
  {
   "cell_type": "code",
   "execution_count": null,
   "id": "d4f0a160",
   "metadata": {},
   "outputs": [],
   "source": []
  }
 ],
 "metadata": {
  "kernelspec": {
   "display_name": "Python 3 (ipykernel)",
   "language": "python",
   "name": "python3"
  },
  "language_info": {
   "codemirror_mode": {
    "name": "ipython",
    "version": 3
   },
   "file_extension": ".py",
   "mimetype": "text/x-python",
   "name": "python",
   "nbconvert_exporter": "python",
   "pygments_lexer": "ipython3",
   "version": "3.9.7"
  }
 },
 "nbformat": 4,
 "nbformat_minor": 5
}
